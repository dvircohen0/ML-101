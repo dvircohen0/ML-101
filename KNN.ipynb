{
  "nbformat": 4,
  "nbformat_minor": 0,
  "metadata": {
    "colab": {
      "name": "KNN.ipynb",
      "provenance": [],
      "authorship_tag": "ABX9TyOxWlOXW+6SxrguiExFL1DL",
      "include_colab_link": true
    },
    "kernelspec": {
      "name": "python3",
      "display_name": "Python 3"
    },
    "language_info": {
      "name": "python"
    }
  },
  "cells": [
    {
      "cell_type": "markdown",
      "metadata": {
        "id": "view-in-github",
        "colab_type": "text"
      },
      "source": [
        "<a href=\"https://colab.research.google.com/github/dvircohen0/Machine-Learning-Algorithms-From-Scratch/blob/main/KNN.ipynb\" target=\"_parent\"><img src=\"https://colab.research.google.com/assets/colab-badge.svg\" alt=\"Open In Colab\"/></a>"
      ]
    },
    {
      "cell_type": "code",
      "metadata": {
        "id": "-0zHIdprYft-"
      },
      "source": [
        "import numpy as np\n",
        "from sklearn.datasets import load_iris\n",
        "from sklearn.model_selection import train_test_split\n",
        "import matplotlib.pyplot as plt\n",
        "from sklearn.neighbors import KNeighborsClassifier"
      ],
      "execution_count": 82,
      "outputs": []
    },
    {
      "cell_type": "code",
      "metadata": {
        "id": "-4bbENdEYjG5"
      },
      "source": [
        "iris=load_iris()\n",
        "\n",
        "X = iris.data\n",
        "y = iris.target\n",
        "X_train, X_test, y_train, y_test = train_test_split(X, y, test_size=0.33, random_state=42)\n",
        "\n",
        "num_of_neighbours= 5"
      ],
      "execution_count": 188,
      "outputs": []
    },
    {
      "cell_type": "code",
      "metadata": {
        "id": "-o0ggEnbYzxP"
      },
      "source": [
        "def nearest_neighbours(row,dataset,k):\n",
        "    dis,index=[],[]\n",
        "    for i in range(len(dataset)):\n",
        "        dis.append(np.linalg.norm(row-dataset[i]))\n",
        "    index=np.argsort(dis)  \n",
        "    dis=np.sort(dis) \n",
        "    return dis[:k],index[:k]"
      ],
      "execution_count": 84,
      "outputs": []
    },
    {
      "cell_type": "code",
      "metadata": {
        "id": "Odv9osoXY3Ip"
      },
      "source": [
        "def voting_function(labels,index):\n",
        "    value=[]\n",
        "    for i in range(len(index)):\n",
        "        value.append(labels[index[i]])\n",
        "    return max(set(value), key = value.count)"
      ],
      "execution_count": 85,
      "outputs": []
    },
    {
      "cell_type": "code",
      "metadata": {
        "id": "GKhI_C1RY4oy"
      },
      "source": [
        "def accuracy(predict,actual):\n",
        "    count=0\n",
        "    for i in range(len(predict)):\n",
        "        if predict[i]==actual[i]:\n",
        "            count=count+1\n",
        "    return(count/len(predict))"
      ],
      "execution_count": 86,
      "outputs": []
    },
    {
      "cell_type": "code",
      "metadata": {
        "colab": {
          "base_uri": "https://localhost:8080/",
          "height": 312
        },
        "id": "4Ajcnu-RY65r",
        "outputId": "406ca68d-f428-4fe3-be5f-a1252a1c328f"
      },
      "source": [
        "dis,index,predict=[],[],[]\n",
        "\n",
        "for i in range(len(X_test)):\n",
        "    dis,index=nearest_neighbours(X_test[i],X_train,num_of_neighbours)\n",
        "    predict.append(voting_function(y_train,index))\n",
        "    \n",
        "print('from scartch accuracy percentage {:.2%}'.format(accuracy(predict,y_test))) \n",
        "\n",
        "classes = np.append(iris.target_names,np.array(['missclassified']))\n",
        "\n",
        "for target in set(y_test):\n",
        "  if predict[i] == y_test[i]:\n",
        "    x_val = [X_test[i,0] for i in range(len(y_test)) if y_test[i]==target]\n",
        "    y_val = [X_test[i,1] for i in range(len(y_test)) if y_test[i]==target]\n",
        "    plt.scatter(x_val, y_val, color=['r', 'c', 'y'][target ], label=classes)\n",
        "\n",
        "x_val = [X_test[i,0] for i in range(len(y_test)) if y_test[i]!=predict[i]]\n",
        "y_val = [X_test[i,1] for i in range(len(y_test)) if y_test[i]!=predict[i]]\n",
        "plt.scatter(x_val, y_val, color='k', marker='x', label=classes)\n",
        "\n",
        "\n",
        "plt.xlabel(iris.feature_names[0])\n",
        "plt.ylabel(iris.feature_names[1])\n",
        "plt.title('KNN from scratch results')\n",
        "plt.legend(classes, loc='lower right')\n",
        "plt.show()"
      ],
      "execution_count": 204,
      "outputs": [
        {
          "output_type": "stream",
          "text": [
            "from scartch accuracy percentage 98.00%\n"
          ],
          "name": "stdout"
        },
        {
          "output_type": "display_data",
          "data": {
            "image/png": "[encoded data removed]",
            "text/plain": [
              "<Figure size 432x288 with 1 Axes>"
            ]
          },
          "metadata": {
            "tags": [],
            "needs_background": "light"
          }
        }
      ]
    },
    {
      "cell_type": "code",
      "metadata": {
        "colab": {
          "base_uri": "https://localhost:8080/",
          "height": 312
        },
        "id": "i7BU2Il1bal5",
        "outputId": "4d3b17c9-dcf2-4c2b-be1b-d07beacfe5d5"
      },
      "source": [
        "neigh = KNeighborsClassifier(n_neighbors = 5).fit(X_train,y_train)\n",
        "print('Sklearn accuracy percentage {:.2%}'.format(neigh.score(X_test, y_test)))\n",
        "\n",
        "sk_pred = neigh.predict(X_test)\n",
        "\n",
        "for target in set(y_test):\n",
        "  if predict[i] == y_test[i]:\n",
        "    x_val = [X_test[i,0] for i in range(len(y_test)) if y_test[i]==target]\n",
        "    y_val = [X_test[i,1] for i in range(len(y_test)) if y_test[i]==target]\n",
        "    plt.scatter(x_val, y_val, color=['r', 'c', 'y'][target ], label=classes)\n",
        "\n",
        "x_val = [X_test[i,0] for i in range(len(y_test)) if y_test[i]!=sk_pred[i]]\n",
        "y_val = [X_test[i,1] for i in range(len(y_test)) if y_test[i]!=sk_pred[i]]\n",
        "plt.scatter(x_val, y_val, color='k', marker='x', label=classes)\n",
        "\n",
        "\n",
        "plt.xlabel(iris.feature_names[0])\n",
        "plt.ylabel(iris.feature_names[1])\n",
        "plt.title('Sklearn results')\n",
        "plt.legend(classes, loc='lower right')\n",
        "plt.show()\n"
      ],
      "execution_count": 205,
      "outputs": [
        {
          "output_type": "stream",
          "text": [
            "Sklearn accuracy percentage 98.00%\n"
          ],
          "name": "stdout"
        },
        {
          "output_type": "display_data",
          "data": {
            "image/png": "[encoded data removed]",
            "text/plain": [
              "<Figure size 432x288 with 1 Axes>"
            ]
          },
          "metadata": {
            "tags": [],
            "needs_background": "light"
          }
        }
      ]
    }
  ]
}