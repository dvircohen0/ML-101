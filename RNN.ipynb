{
  "nbformat": 4,
  "nbformat_minor": 0,
  "metadata": {
    "colab": {
      "name": "RNN.ipynb",
      "provenance": [],
      "authorship_tag": "ABX9TyMvA0HXRc30rL88lsWK9xJI",
      "include_colab_link": true
    },
    "kernelspec": {
      "name": "python3",
      "display_name": "Python 3"
    },
    "language_info": {
      "name": "python"
    }
  },
  "cells": [
    {
      "cell_type": "markdown",
      "metadata": {
        "id": "view-in-github",
        "colab_type": "text"
      },
      "source": [
        "<a href=\"https://colab.research.google.com/github/dvircohen0/Machine-Learning-Algorithms-From-Scratch/blob/main/RNN.ipynb\" target=\"_parent\"><img src=\"https://colab.research.google.com/assets/colab-badge.svg\" alt=\"Open In Colab\"/></a>"
      ]
    },
    {
      "cell_type": "markdown",
      "metadata": {
        "id": "ghGmzpjhFvk8"
      },
      "source": [
        "![](https://iamtrask.github.io/img/recurrence_gif.gif)"
      ]
    },
    {
      "cell_type": "code",
      "metadata": {
        "id": "gvqo3S7d_nHN"
      },
      "source": [
        "import numpy as np\n",
        "from tqdm import tqdm\n",
        "\n",
        " \n",
        "class RNN:\n",
        "    def __init__(self, input_dim=2, output_dim=1, hidden_dim=16):\n",
        "        self.input_weights = 2*np.random.random((input_dim,hidden_dim)) - 1\n",
        "        self.output_weights = 2*np.random.random((hidden_dim,output_dim)) - 1\n",
        "        self.hidden_weights = 2*np.random.random((hidden_dim,hidden_dim)) - 1\n",
        "        self.binary_dim = 8\n",
        "        self.hidden_dim=hidden_dim\n",
        "        self.int2binary=self.int_to_binary()\n",
        "\n",
        "        \n",
        "    def sigmoid(self,x):\n",
        "        return 1/(1+np.exp(-x))\n",
        "    \n",
        "    def sigmoid_output_to_derivative(self,x):\n",
        "        return x*(1-x)\n",
        "        \n",
        "    def int_to_binary(self):\n",
        "        int2binary={}\n",
        "        self.largest_number = 2**self.binary_dim\n",
        "        binary = np.unpackbits( np.array([range(self.largest_number)],dtype=np.uint8).T,axis=1)\n",
        "        for i in range(self.largest_number):\n",
        "            int2binary[i] = binary[i]\n",
        "        return int2binary\n",
        "    \n",
        "    def generate_random(self):\n",
        "        self.a_int = np.random.randint(self.largest_number/2)\n",
        "        self.a = self.int2binary[self.a_int]\n",
        "        self.b_int = np.random.randint(self.largest_number/2)\n",
        "        self.b = self.int2binary[self.b_int]\n",
        "        self.c = self.int2binary[self.a_int + self.b_int]\n",
        "\n",
        "    \n",
        "    def forward(self):\n",
        "        self.total_error=0\n",
        "        self.layer_2_deltas=[]\n",
        "        self.layer_1_values = [np.expand_dims(np.zeros(self.hidden_dim),axis=0)]\n",
        "        for pos in range(self.binary_dim):\n",
        "            input_numbers = np.array([[self.a[self.binary_dim - pos - 1],self.b[self.binary_dim - pos -1]]])\n",
        "            result = np.array([self.c[self.binary_dim - pos -1]])\n",
        "            layer_1 = self.sigmoid(np.dot(input_numbers,self.input_weights)+np.dot(self.layer_1_values[-1],self.hidden_weights))\n",
        "            layer_2 = self.sigmoid(np.dot(layer_1,self.output_weights))\n",
        "            self.layer_1_values.append(layer_1 )\n",
        "            error = result - layer_2\n",
        "            self.layer_2_deltas.append((error)*self.sigmoid_output_to_derivative(layer_2))\n",
        "            self.total_error += abs(error[0][0])\n",
        "            self.d[self.binary_dim - pos - 1] = np.round(layer_2[0][0])\n",
        "\n",
        "            \n",
        "    def backward(self):\n",
        "        self.input_weights_update=0\n",
        "        self.output_weights_update=0\n",
        "        self.hidden_weights_update=0\n",
        "        future_layer_1_delta = np.zeros(self.hidden_dim)\n",
        "        for pos in range(self.binary_dim):\n",
        "            X = np.array([[self.a[pos],self.b[pos]]])\n",
        "            layer_1 = self.layer_1_values[self.binary_dim-pos]\n",
        "            prev_layer_1 = self.layer_1_values[self.binary_dim-pos-1]\n",
        "            layer_2_delta = self.layer_2_deltas[self.binary_dim-pos-1]\n",
        "            layer_1_delta = (np.dot(future_layer_1_delta,self.hidden_weights) + \\\n",
        "                             np.dot(layer_2_delta,self.output_weights.T)) *     \\\n",
        "                              self.sigmoid_output_to_derivative(layer_1)\n",
        "                              \n",
        "            self.output_weights_update += np.dot(layer_1.T,layer_2_delta)\n",
        "            self.hidden_weights_update += np.atleast_2d(prev_layer_1).T.dot(layer_1_delta)\n",
        "            self.input_weights_update += X.T.dot(layer_1_delta)\n",
        "            future_layer_1_delta=layer_1_delta\n",
        "            \n",
        "            \n",
        "    def weights_update(self):\n",
        "        self.input_weights += self.input_weights_update * self.lr\n",
        "        self.output_weights += self.output_weights_update * self.lr\n",
        "        self.hidden_weights += self.hidden_weights_update * self.lr\n",
        "\n",
        "\n",
        "    def train(self, lr=0.1,epoches=10):\n",
        "        self.lr=lr\n",
        "        for j in range(epoches):\n",
        "            self.generate_random()\n",
        "            self.d = np.zeros_like(self.c)\n",
        "            self.forward()\n",
        "            self.backward()\n",
        "            self.weights_update()\n",
        "            if (j % 1000 == 0):\n",
        "              print(\"Epoch: \",str(j))\n",
        "              print(\"Pred:\",str(self.d))\n",
        "              print(\"True:\",str(self.c),\"\\n\")\n",
        "              \n",
        "            \n",
        "            \n",
        "    def predict(self,a,b):\n",
        "        if a+b> self.largest_number:\n",
        "            print(\"please enter numbers with sum lower then \", self.largest_number)\n",
        "        else:\n",
        "            self.a_int = a\n",
        "            self.a = self.int2binary[self.a_int]\n",
        "            self.b_int = b\n",
        "            self.b = self.int2binary[self.b_int]\n",
        "            # self.c = self.int2binary[self.a_int + self.b_int]\n",
        "            self.forward()\n",
        "            out=0\n",
        "            for index,x in enumerate(reversed(self.d)):\n",
        "                out += x*pow(2,index)\n",
        "            print(str(a),\"+\",str(b),\"=\",str(out))\n",
        "            if out == self.a_int+self.b_int:\n",
        "                print(\"\\n\",out, \"its the right answer!\")\n",
        "            else: print(\"\\n\",out, \"wrong, the answer is \",self.a_int+self.b_int )"
      ],
      "execution_count": 30,
      "outputs": []
    },
    {
      "cell_type": "code",
      "metadata": {
        "colab": {
          "base_uri": "https://localhost:8080/"
        },
        "id": "zH1LB4bd_tMJ",
        "outputId": "8c63c0a4-66bc-4939-94f0-07db9dc74a0c"
      },
      "source": [
        "z=RNN()\n",
        "z.train(0.1,10000)"
      ],
      "execution_count": 35,
      "outputs": [
        {
          "output_type": "stream",
          "text": [
            "Epoch:  0\n",
            "Pred: [0 0 0 0 0 0 0 0]\n",
            "True: [0 1 1 0 1 1 1 1] \n",
            "\n",
            "Epoch:  1000\n",
            "Pred: [1 0 0 1 0 1 1 1]\n",
            "True: [0 1 0 0 1 1 0 0] \n",
            "\n",
            "Epoch:  2000\n",
            "Pred: [0 0 0 0 0 0 1 0]\n",
            "True: [1 0 1 1 0 0 0 0] \n",
            "\n",
            "Epoch:  3000\n",
            "Pred: [0 1 1 1 1 1 0 0]\n",
            "True: [1 0 0 0 0 0 0 0] \n",
            "\n",
            "Epoch:  4000\n",
            "Pred: [1 0 0 0 0 0 0 0]\n",
            "True: [1 0 1 0 0 1 0 0] \n",
            "\n",
            "Epoch:  5000\n",
            "Pred: [1 1 0 0 1 0 1 0]\n",
            "True: [1 0 0 0 1 0 1 0] \n",
            "\n",
            "Epoch:  6000\n",
            "Pred: [0 1 1 0 1 0 1 1]\n",
            "True: [0 1 1 0 1 0 1 1] \n",
            "\n",
            "Epoch:  7000\n",
            "Pred: [0 1 1 1 0 1 1 1]\n",
            "True: [0 1 1 1 0 1 1 1] \n",
            "\n",
            "Epoch:  8000\n",
            "Pred: [0 1 0 0 1 1 1 1]\n",
            "True: [0 1 0 0 1 0 1 1] \n",
            "\n",
            "Epoch:  9000\n",
            "Pred: [1 0 0 0 1 1 0 1]\n",
            "True: [1 0 0 0 1 1 0 1] \n",
            "\n"
          ],
          "name": "stdout"
        }
      ]
    },
    {
      "cell_type": "code",
      "metadata": {
        "colab": {
          "base_uri": "https://localhost:8080/"
        },
        "id": "mhwY0gZ__ut3",
        "outputId": "e1670b7b-0cc8-4159-d661-fb0ccb46cfd6"
      },
      "source": [
        "import random \n",
        "\n",
        "a=random.randint(0, 256)\n",
        "b=random.randint(0, 256-a)\n",
        "\n",
        "z.predict(a,b)"
      ],
      "execution_count": 36,
      "outputs": [
        {
          "output_type": "stream",
          "text": [
            "190 + 7 = 197\n",
            "\n",
            " 197 its the right answer!\n"
          ],
          "name": "stdout"
        }
      ]
    }
  ]
}