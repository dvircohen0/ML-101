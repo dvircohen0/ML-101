{
  "nbformat": 4,
  "nbformat_minor": 0,
  "metadata": {
    "colab": {
      "name": "logistic regression.ipynb",
      "provenance": [],
      "authorship_tag": "ABX9TyOeRL8Rn9++ZYURwBJJWTLV",
      "include_colab_link": true
    },
    "kernelspec": {
      "name": "python3",
      "display_name": "Python 3"
    },
    "language_info": {
      "name": "python"
    }
  },
  "cells": [
    {
      "cell_type": "markdown",
      "metadata": {
        "id": "view-in-github",
        "colab_type": "text"
      },
      "source": [
        "<a href=\"https://colab.research.google.com/github/dvircohen0/Machine-Learning-Algorithms-From-Scratch/blob/main/logistic_regression.ipynb\" target=\"_parent\"><img src=\"https://colab.research.google.com/assets/colab-badge.svg\" alt=\"Open In Colab\"/></a>"
      ]
    },
    {
      "cell_type": "code",
      "metadata": {
        "id": "9BWDaknpOosd"
      },
      "source": [
        "import pandas as pd\n",
        "from math import sqrt\n",
        "import numpy as np\n",
        "import matplotlib.pyplot as plt\n",
        "from sklearn.model_selection import train_test_split\n",
        "from sklearn.datasets import load_iris\n",
        "from sklearn import preprocessing"
      ],
      "execution_count": 174,
      "outputs": []
    },
    {
      "cell_type": "code",
      "metadata": {
        "colab": {
          "base_uri": "https://localhost:8080/",
          "height": 281
        },
        "id": "NRKg5hlrOtAj",
        "outputId": "89258a9b-92b6-4877-ed89-ed35a6c66759"
      },
      "source": [
        "iris = load_iris()\n",
        "data = preprocessing.scale(iris.data[:,:2])\n",
        "labels = np.array([1 if x==0 else 0 for x in iris.target])\n",
        "\n",
        "plt.scatter(data[:,0],data[:,1],c=labels, s=30)\n",
        "plt.title('Iris data set')           \n",
        "plt.show()\n",
        "\n",
        "x_train,x_test,y_train,y_test = train_test_split(data,labels) "
      ],
      "execution_count": 175,
      "outputs": [
        {
          "output_type": "display_data",
          "data": {
            "image/png": "[encoded data removed]",
            "text/plain": [
              "<Figure size 432x288 with 1 Axes>"
            ]
          },
          "metadata": {
            "tags": [],
            "needs_background": "light"
          }
        }
      ]
    },
    {
      "cell_type": "code",
      "metadata": {
        "id": "-EG29ucHcDaP"
      },
      "source": [
        "class LogisticRegressuin:\n",
        "  def __init__(self, lr=0.00001, n_iter = 1000):\n",
        "    self.lr=lr\n",
        "    self.n_iter=n_iter\n",
        "    self.W = None\n",
        "    self.b = None\n",
        "\n",
        "  def logit(self,x):\n",
        "      return 1/(1+np.exp(-x))\n",
        "\n",
        "  def fit(self, X, y):\n",
        "    n_samples, n_features = X.shape\n",
        "    self.W = np.zeros(n_features)\n",
        "    self.b = 0\n",
        "\n",
        "    #gradient loop\n",
        "    for _ in range(self.n_iter):\n",
        "      y_pred = self.logit(np.dot(X, self.W) + self.b)\n",
        "      dw = (1/n_samples) * np.dot(X.T, (y_pred-y))\n",
        "      db = (1/n_samples) * np.sum(y_pred-y)\n",
        "\n",
        "      self.W -= self.lr * dw\n",
        "      self.b -= self.lr * db\n",
        "\n",
        "\n",
        "  def predict(self,X):\n",
        "    y_predicted_prob = self.logit(np.dot(X, self.W) + self.b)\n",
        "    y_predicted_class = [1 if i > 0.5 else 0 for i in y_predicted_prob]\n",
        "    return y_predicted_class\n",
        "\n",
        "\n",
        "  def score(self,X,y):\n",
        "    y_predicted_prob = self.logit(np.dot(X, self.W) + self.b)\n",
        "    y_predicted_class = [1 if i > 0.5 else 0 for i in y_predicted_prob]\n",
        "    accuracy = np.sum(y==y_predicted_class) / len(y)\n",
        "    return accuracy\n",
        "\n",
        "\n",
        "  def percision(self,X,y):\n",
        "    y_predicted_prob = self.logit(np.dot(X, self.W) + self.b)\n",
        "    y_predicted_class = [1 if i > 0.5 else 0 for i in y_predicted_prob]\n",
        "    TP_and_FP = y_predicted_class.count(1)\n",
        "    TP = np.sum([1 for i in range(len(y)) if y_predicted_class[i]==y[i]==1])\n",
        "    precision = TP / TP_and_FP\n",
        "    return precision\n"
      ],
      "execution_count": 222,
      "outputs": []
    },
    {
      "cell_type": "code",
      "metadata": {
        "colab": {
          "base_uri": "https://localhost:8080/"
        },
        "id": "mT_xWFEbfsa0",
        "outputId": "fd982c95-5d0d-483e-dbeb-93046cc5f478"
      },
      "source": [
        "LR = LogisticRegressuin(lr=0.0001, n_iter = 10000)\n",
        "LR.fit(x_train,y_train)\n",
        "\n",
        "print('accuracy score {:.2%}'.format(LR.score(x_test, y_test)))\n",
        "print('percision score {:.2%}'.format(LR.percision(x_test, y_test)))  "
      ],
      "execution_count": 223,
      "outputs": [
        {
          "output_type": "stream",
          "text": [
            "accuracy score 94.74%\n",
            "percision score 90.91%\n"
          ],
          "name": "stdout"
        }
      ]
    },
    {
      "cell_type": "code",
      "metadata": {
        "id": "QSPAblVGO1op",
        "colab": {
          "base_uri": "https://localhost:8080/",
          "height": 281
        },
        "outputId": "e973934e-2d1d-4df1-c27c-4a0f212c0cb2"
      },
      "source": [
        "x = np.arange(-10, 10, 0.2)\n",
        "sig = LR.logit(x)\n",
        "plt.plot(x,sig)\n",
        "plt.title(\"sigmoid function\")\n",
        "plt.show()"
      ],
      "execution_count": 203,
      "outputs": [
        {
          "output_type": "display_data",
          "data": {
            "image/png": "[encoded data removed]",
            "text/plain": [
              "<Figure size 432x288 with 1 Axes>"
            ]
          },
          "metadata": {
            "tags": [],
            "needs_background": "light"
          }
        }
      ]
    },
    {
      "cell_type": "code",
      "metadata": {
        "colab": {
          "base_uri": "https://localhost:8080/"
        },
        "id": "2sLGJeg1jmhb",
        "outputId": "a8e3f154-29e6-43f6-ae9d-4cf3281f1e0d"
      },
      "source": [
        "from sklearn.linear_model import LogisticRegression\n",
        "\n",
        "clf = LogisticRegression(random_state=0).fit(x_train,y_train)\n",
        "clf.score(x_test, y_test)"
      ],
      "execution_count": 180,
      "outputs": [
        {
          "output_type": "execute_result",
          "data": {
            "text/plain": [
              "0.9736842105263158"
            ]
          },
          "metadata": {
            "tags": []
          },
          "execution_count": 180
        }
      ]
    }
  ]
}