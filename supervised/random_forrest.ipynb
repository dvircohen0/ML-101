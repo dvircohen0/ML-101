{
  "nbformat": 4,
  "nbformat_minor": 0,
  "metadata": {
    "colab": {
      "name": "random_forrest.ipynb",
      "provenance": [],
      "authorship_tag": "ABX9TyODKHir6rwwSe6oeOR5r7pZ",
      "include_colab_link": true
    },
    "kernelspec": {
      "name": "python3",
      "display_name": "Python 3"
    },
    "language_info": {
      "name": "python"
    }
  },
  "cells": [
    {
      "cell_type": "markdown",
      "metadata": {
        "id": "view-in-github",
        "colab_type": "text"
      },
      "source": [
        "<a href=\"https://colab.research.google.com/github/dvircohen0/Machine-Learning-Algorithms-From-Scratch/blob/main/random_forrest.ipynb\" target=\"_parent\"><img src=\"https://colab.research.google.com/assets/colab-badge.svg\" alt=\"Open In Colab\"/></a>"
      ]
    },
    {
      "cell_type": "code",
      "metadata": {
        "id": "UOKjoQq8_oiG"
      },
      "source": [
        "import pandas as  pd\n",
        "import numpy as np\n",
        "from math import sqrt\n",
        "from sklearn.model_selection import train_test_split\n",
        "from sklearn.datasets import load_breast_cancer"
      ],
      "execution_count": 25,
      "outputs": []
    },
    {
      "cell_type": "code",
      "metadata": {
        "id": "EY7ZhGKC_qKF"
      },
      "source": [
        "breast_cancer = load_breast_cancer()\n",
        "\n",
        "data=breast_cancer.data\n",
        "target=breast_cancer.target\n",
        "\n",
        "X_train,X_test,y_train,y_test= train_test_split(data,target)\n",
        "\n",
        "y_train=y_train.reshape(1,len(y_train))\n",
        "X_train =np.concatenate((X_train,y_train.T), axis=1) "
      ],
      "execution_count": 77,
      "outputs": []
    },
    {
      "cell_type": "code",
      "metadata": {
        "id": "DI-hcyX9_syU"
      },
      "source": [
        "number_of_random_features = 4\n",
        "number_of_trees =50\n",
        "min_samples=2\n",
        "max_depth=4"
      ],
      "execution_count": 61,
      "outputs": []
    },
    {
      "cell_type": "code",
      "metadata": {
        "id": "gWbMYNi-_0Aw"
      },
      "source": [
        "def create_subsample(data,number_of_features):\n",
        "    number_of_columns = data.shape[1]\n",
        "    random_indices = np.random.choice(number_of_columns-1 ,\n",
        "                                      size=number_of_features,\n",
        "                                      replace=False)\n",
        "    ind_map = {}\n",
        "    for i,ind in enumerate(random_indices):\n",
        "        ind_map[i] = ind\n",
        "    return ind_map"
      ],
      "execution_count": 28,
      "outputs": []
    },
    {
      "cell_type": "code",
      "metadata": {
        "id": "jgkgb68o_8MC"
      },
      "source": [
        "def split(data,i,value):\n",
        "    left = data[np.where(data[:,i] >= value)]\n",
        "    right = data[np.where(data[:,i] < value)]\n",
        "    return left,right"
      ],
      "execution_count": 29,
      "outputs": []
    },
    {
      "cell_type": "code",
      "metadata": {
        "id": "gELdddHo_-Zk"
      },
      "source": [
        "def check_purity(X):\n",
        "    label_column = X[:,-1]\n",
        "    unique_classes = np.unique(label_column)\n",
        "    if len(unique_classes) == 1:\n",
        "        return True\n",
        "    else:\n",
        "        return False"
      ],
      "execution_count": 30,
      "outputs": []
    },
    {
      "cell_type": "code",
      "metadata": {
        "id": "p25kGk3b__eD"
      },
      "source": [
        "def classify_data(data):\n",
        "    label_column = data[:,-1]\n",
        "    unique_classes, counts_unique_classes = np.unique(label_column, return_counts=True)\n",
        "    index = counts_unique_classes.argmax()\n",
        "    classification = unique_classes[index]\n",
        "    return classification"
      ],
      "execution_count": 31,
      "outputs": []
    },
    {
      "cell_type": "code",
      "metadata": {
        "id": "-TchsJkbABas"
      },
      "source": [
        "def gini(Y1,Y2):\n",
        "    size_L=len(Y1)\n",
        "    size_R=len(Y2)\n",
        "    pos_L=(Y1 == 1).sum()\n",
        "    neg_L=size_L-pos_L\n",
        "    pos_R=(Y2 == 1).sum()\n",
        "    neg_R=size_R-pos_R\n",
        "    P_l=1-1*(pos_L/size_L)**2 -1*(neg_L/size_L)**2 \n",
        "    P_r=1-1*(pos_R/size_R)**2 -1*(neg_R/size_R)**2 \n",
        "    gini_value=(P_l*size_L/(size_L+size_R))+(P_r*size_R/(size_L+size_R))\n",
        "    return gini_value"
      ],
      "execution_count": 32,
      "outputs": []
    },
    {
      "cell_type": "code",
      "metadata": {
        "id": "Hy1XKlVHAC_k"
      },
      "source": [
        "def find_best_gini(X):\n",
        "    mean1,gini1=[],[]\n",
        "    for i in range(X.shape[1]-1):\n",
        "        mean = X[:,i].mean()\n",
        "        mean1.append(mean)\n",
        "        L,R=split(X,i,mean)\n",
        "        gini_val=gini(L[:,-1],R[:,-1])\n",
        "        gini1.append(gini_val)\n",
        "    return gini1.index(min(gini1)),mean1[gini1.index(min(gini1))]"
      ],
      "execution_count": 33,
      "outputs": []
    },
    {
      "cell_type": "code",
      "metadata": {
        "id": "jV5yAR55AGpI"
      },
      "source": [
        "def decision_tree_algorithm(data,ind_map, counter, min_samples, max_depth):\n",
        "\n",
        "    if (check_purity(data)) or (len(data) < min_samples) or (counter == max_depth):\n",
        "        classification = classify_data(data)\n",
        "        return classification\n",
        "    else:    \n",
        "        counter += 1\n",
        "        index,value=find_best_gini(data)\n",
        "        L,R = split(data, index, value)\n",
        "        question = \"{} <= {}\".format(ind_map[index], value)\n",
        "        sub_tree = {question: []}\n",
        "        yes_answer = decision_tree_algorithm(L,ind_map, counter, min_samples, max_depth)\n",
        "        no_answer = decision_tree_algorithm(R,ind_map, counter, min_samples, max_depth)\n",
        "        if yes_answer == no_answer:\n",
        "            sub_tree = yes_answer\n",
        "        else:\n",
        "            sub_tree[question].append(yes_answer)\n",
        "            sub_tree[question].append(no_answer)\n",
        "        return sub_tree"
      ],
      "execution_count": 52,
      "outputs": []
    },
    {
      "cell_type": "code",
      "metadata": {
        "id": "ffT52ur5AIsQ"
      },
      "source": [
        "def random_forest(data,n):\n",
        "    tree=[]\n",
        "    for i in range(n):\n",
        "        random_in = create_subsample(data,number_of_random_features)\n",
        "        new_data = data[:,[*random_in.values()]]\n",
        "        y_new=data[:,-1].reshape(1,len(data[:,-1]))\n",
        "        new_data =np.concatenate((new_data, y_new.T), axis=1)\n",
        "        tree.append(decision_tree_algorithm(new_data,\n",
        "                                            random_in,\n",
        "                                            0,\n",
        "                                            min_samples,\n",
        "                                            max_depth))\n",
        "    return tree"
      ],
      "execution_count": 53,
      "outputs": []
    },
    {
      "cell_type": "code",
      "metadata": {
        "id": "v8JivHqdAJ8R"
      },
      "source": [
        "def classify(example, tree):\n",
        "    question = list(tree.keys())[0]\n",
        "    feature_name, comparison_operator, value = question.split(\" \")\n",
        "    feature_name=int(feature_name)\n",
        "    if example[feature_name] <= float(value):\n",
        "        answer = tree[question][1]\n",
        "    else:\n",
        "        answer = tree[question][0]\n",
        "    if not isinstance(answer, dict):\n",
        "        return answer\n",
        "    else:\n",
        "        residual_tree = answer\n",
        "        return classify(example, residual_tree)"
      ],
      "execution_count": 54,
      "outputs": []
    },
    {
      "cell_type": "code",
      "metadata": {
        "id": "H42Ei4jjAMSS"
      },
      "source": [
        "def test_forrest(data,trees):\n",
        "    result=[]\n",
        "    for i in range(len(data)):\n",
        "        vote = []\n",
        "        for j in range(len(trees)):\n",
        "            vote.append(classify(data[i,:],trees[j]))\n",
        "        counts = np.bincount(vote)\n",
        "        result.append(np.argmax(counts))\n",
        "    return result"
      ],
      "execution_count": 55,
      "outputs": []
    },
    {
      "cell_type": "code",
      "metadata": {
        "id": "0vVBNzD2APOL"
      },
      "source": [
        "def accuracy(predict,actual):\n",
        "    count=0\n",
        "    for i in range(len(predict)):\n",
        "        if predict[i]==actual[i]:\n",
        "            count+=1\n",
        "    return(count/len(predict))"
      ],
      "execution_count": 56,
      "outputs": []
    },
    {
      "cell_type": "code",
      "metadata": {
        "colab": {
          "base_uri": "https://localhost:8080/"
        },
        "id": "wWRVdBiIXZdP",
        "outputId": "0b607917-6c48-47dd-d2c6-7068e368301b"
      },
      "source": [
        "\n",
        "result = []\n",
        "trees=random_forest(X_train,number_of_trees)\n",
        "y_pred = test_forrest(X_test,trees)\n",
        "\n",
        "print('accuracy percentage {:.2%}'.format(accuracy(y_pred,y_test)))"
      ],
      "execution_count": 80,
      "outputs": [
        {
          "output_type": "stream",
          "text": [
            "accuracy percentage 96.50%\n"
          ],
          "name": "stdout"
        }
      ]
    },
    {
      "cell_type": "code",
      "metadata": {
        "colab": {
          "base_uri": "https://localhost:8080/"
        },
        "id": "uv6vv023B5ki",
        "outputId": "5571f09d-7567-4f87-9cbc-9966cd40d826"
      },
      "source": [
        "from sklearn.ensemble import RandomForestClassifier\n",
        "\n",
        "RF = RandomForestClassifier(max_depth=4, random_state=0)\n",
        "RF.fit(X_train[:,:-1], np.ravel(y_train))\n",
        "\n",
        "print('Sklearn accuracy percentage {:.2%}'.format(RF.score(X_test, y_test)))"
      ],
      "execution_count": 79,
      "outputs": [
        {
          "output_type": "stream",
          "text": [
            "Sklearn accuracy percentage 97.20%\n"
          ],
          "name": "stdout"
        }
      ]
    }
  ]
}
