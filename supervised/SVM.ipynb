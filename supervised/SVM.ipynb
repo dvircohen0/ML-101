{
  "nbformat": 4,
  "nbformat_minor": 0,
  "metadata": {
    "colab": {
      "name": "SVM.ipynb",
      "provenance": [],
      "authorship_tag": "ABX9TyO+/oNud6TE+7RlKK7ELR0a",
      "include_colab_link": true
    },
    "kernelspec": {
      "name": "python3",
      "display_name": "Python 3"
    },
    "language_info": {
      "name": "python"
    },
    "widgets": {
      "application/vnd.jupyter.widget-state+json": {
        "517f53cf70754e1b883da213bf5e0490": {
          "model_module": "@jupyter-widgets/controls",
          "model_name": "HBoxModel",
          "state": {
            "_view_name": "HBoxView",
            "_dom_classes": [],
            "_model_name": "HBoxModel",
            "_view_module": "@jupyter-widgets/controls",
            "_model_module_version": "1.5.0",
            "_view_count": null,
            "_view_module_version": "1.5.0",
            "box_style": "",
            "layout": "IPY_MODEL_b2110b3085034861aedc9873d39baa24",
            "_model_module": "@jupyter-widgets/controls",
            "children": [
              "IPY_MODEL_8bebc9cf1f434a6482f8492f7f3e4e7b",
              "IPY_MODEL_fc7c776f0c174b0e939b6914b2c2b625"
            ]
          }
        },
        "b2110b3085034861aedc9873d39baa24": {
          "model_module": "@jupyter-widgets/base",
          "model_name": "LayoutModel",
          "state": {
            "_view_name": "LayoutView",
            "grid_template_rows": null,
            "right": null,
            "justify_content": null,
            "_view_module": "@jupyter-widgets/base",
            "overflow": null,
            "_model_module_version": "1.2.0",
            "_view_count": null,
            "flex_flow": null,
            "width": null,
            "min_width": null,
            "border": null,
            "align_items": null,
            "bottom": null,
            "_model_module": "@jupyter-widgets/base",
            "top": null,
            "grid_column": null,
            "overflow_y": null,
            "overflow_x": null,
            "grid_auto_flow": null,
            "grid_area": null,
            "grid_template_columns": null,
            "flex": null,
            "_model_name": "LayoutModel",
            "justify_items": null,
            "grid_row": null,
            "max_height": null,
            "align_content": null,
            "visibility": null,
            "align_self": null,
            "height": null,
            "min_height": null,
            "padding": null,
            "grid_auto_rows": null,
            "grid_gap": null,
            "max_width": null,
            "order": null,
            "_view_module_version": "1.2.0",
            "grid_template_areas": null,
            "object_position": null,
            "object_fit": null,
            "grid_auto_columns": null,
            "margin": null,
            "display": null,
            "left": null
          }
        },
        "8bebc9cf1f434a6482f8492f7f3e4e7b": {
          "model_module": "@jupyter-widgets/controls",
          "model_name": "FloatProgressModel",
          "state": {
            "_view_name": "ProgressView",
            "style": "IPY_MODEL_76147570f98c40e28823a00be1c57231",
            "_dom_classes": [],
            "description": "100%",
            "_model_name": "FloatProgressModel",
            "bar_style": "success",
            "max": 4000,
            "_view_module": "@jupyter-widgets/controls",
            "_model_module_version": "1.5.0",
            "value": 4000,
            "_view_count": null,
            "_view_module_version": "1.5.0",
            "orientation": "horizontal",
            "min": 0,
            "description_tooltip": null,
            "_model_module": "@jupyter-widgets/controls",
            "layout": "IPY_MODEL_9ff9250918d64b0198a90c3361dc1ba1"
          }
        },
        "fc7c776f0c174b0e939b6914b2c2b625": {
          "model_module": "@jupyter-widgets/controls",
          "model_name": "HTMLModel",
          "state": {
            "_view_name": "HTMLView",
            "style": "IPY_MODEL_eb21dcd0fe55446983cdab2c5b9a827f",
            "_dom_classes": [],
            "description": "",
            "_model_name": "HTMLModel",
            "placeholder": "​",
            "_view_module": "@jupyter-widgets/controls",
            "_model_module_version": "1.5.0",
            "value": " 4000/4000 [03:30&lt;00:00, 19.01it/s]",
            "_view_count": null,
            "_view_module_version": "1.5.0",
            "description_tooltip": null,
            "_model_module": "@jupyter-widgets/controls",
            "layout": "IPY_MODEL_007cdcca88a54ba8b9b091c2523e263d"
          }
        },
        "76147570f98c40e28823a00be1c57231": {
          "model_module": "@jupyter-widgets/controls",
          "model_name": "ProgressStyleModel",
          "state": {
            "_view_name": "StyleView",
            "_model_name": "ProgressStyleModel",
            "description_width": "initial",
            "_view_module": "@jupyter-widgets/base",
            "_model_module_version": "1.5.0",
            "_view_count": null,
            "_view_module_version": "1.2.0",
            "bar_color": null,
            "_model_module": "@jupyter-widgets/controls"
          }
        },
        "9ff9250918d64b0198a90c3361dc1ba1": {
          "model_module": "@jupyter-widgets/base",
          "model_name": "LayoutModel",
          "state": {
            "_view_name": "LayoutView",
            "grid_template_rows": null,
            "right": null,
            "justify_content": null,
            "_view_module": "@jupyter-widgets/base",
            "overflow": null,
            "_model_module_version": "1.2.0",
            "_view_count": null,
            "flex_flow": null,
            "width": null,
            "min_width": null,
            "border": null,
            "align_items": null,
            "bottom": null,
            "_model_module": "@jupyter-widgets/base",
            "top": null,
            "grid_column": null,
            "overflow_y": null,
            "overflow_x": null,
            "grid_auto_flow": null,
            "grid_area": null,
            "grid_template_columns": null,
            "flex": null,
            "_model_name": "LayoutModel",
            "justify_items": null,
            "grid_row": null,
            "max_height": null,
            "align_content": null,
            "visibility": null,
            "align_self": null,
            "height": null,
            "min_height": null,
            "padding": null,
            "grid_auto_rows": null,
            "grid_gap": null,
            "max_width": null,
            "order": null,
            "_view_module_version": "1.2.0",
            "grid_template_areas": null,
            "object_position": null,
            "object_fit": null,
            "grid_auto_columns": null,
            "margin": null,
            "display": null,
            "left": null
          }
        },
        "eb21dcd0fe55446983cdab2c5b9a827f": {
          "model_module": "@jupyter-widgets/controls",
          "model_name": "DescriptionStyleModel",
          "state": {
            "_view_name": "StyleView",
            "_model_name": "DescriptionStyleModel",
            "description_width": "",
            "_view_module": "@jupyter-widgets/base",
            "_model_module_version": "1.5.0",
            "_view_count": null,
            "_view_module_version": "1.2.0",
            "_model_module": "@jupyter-widgets/controls"
          }
        },
        "007cdcca88a54ba8b9b091c2523e263d": {
          "model_module": "@jupyter-widgets/base",
          "model_name": "LayoutModel",
          "state": {
            "_view_name": "LayoutView",
            "grid_template_rows": null,
            "right": null,
            "justify_content": null,
            "_view_module": "@jupyter-widgets/base",
            "overflow": null,
            "_model_module_version": "1.2.0",
            "_view_count": null,
            "flex_flow": null,
            "width": null,
            "min_width": null,
            "border": null,
            "align_items": null,
            "bottom": null,
            "_model_module": "@jupyter-widgets/base",
            "top": null,
            "grid_column": null,
            "overflow_y": null,
            "overflow_x": null,
            "grid_auto_flow": null,
            "grid_area": null,
            "grid_template_columns": null,
            "flex": null,
            "_model_name": "LayoutModel",
            "justify_items": null,
            "grid_row": null,
            "max_height": null,
            "align_content": null,
            "visibility": null,
            "align_self": null,
            "height": null,
            "min_height": null,
            "padding": null,
            "grid_auto_rows": null,
            "grid_gap": null,
            "max_width": null,
            "order": null,
            "_view_module_version": "1.2.0",
            "grid_template_areas": null,
            "object_position": null,
            "object_fit": null,
            "grid_auto_columns": null,
            "margin": null,
            "display": null,
            "left": null
          }
        }
      }
    }
  },
  "cells": [
    {
      "cell_type": "markdown",
      "metadata": {
        "id": "view-in-github",
        "colab_type": "text"
      },
      "source": [
        "<a href=\"https://colab.research.google.com/github/dvircohen0/Machine-Learning-Algorithms-From-Scratch/blob/main/SVM.ipynb\" target=\"_parent\"><img src=\"https://colab.research.google.com/assets/colab-badge.svg\" alt=\"Open In Colab\"/></a>"
      ]
    },
    {
      "cell_type": "code",
      "metadata": {
        "id": "Vvm_RJgAEpyG"
      },
      "source": [
        "import pandas as pd\n",
        "import numpy as np\n",
        "from sklearn.model_selection import train_test_split\n",
        "import tqdm.notebook as tq\n",
        "from numpy import loadtxt\n",
        "from sklearn.preprocessing import StandardScaler\n",
        "from matplotlib import pyplot as plt"
      ],
      "execution_count": 20,
      "outputs": []
    },
    {
      "cell_type": "code",
      "metadata": {
        "id": "5gRNh3tvErkA"
      },
      "source": [
        "pima = loadtxt('https://raw.githubusercontent.com/jbrownlee/Datasets/master/pima-indians-diabetes.data.csv', delimiter=',')\n",
        "X = pima[:,:-1]\n",
        "y = pima[:,-1]\n",
        "y=(y*2)-1\n",
        "scaler = StandardScaler()\n",
        "scaled_data = scaler.fit_transform(X) \n",
        "x_train,x_test,y_train,y_test = train_test_split(scaled_data,y)"
      ],
      "execution_count": 8,
      "outputs": []
    },
    {
      "cell_type": "code",
      "metadata": {
        "id": "xMgCduUHFvsY"
      },
      "source": [
        "iterr = 4000\n",
        "C = 0.01"
      ],
      "execution_count": 11,
      "outputs": []
    },
    {
      "cell_type": "code",
      "metadata": {
        "id": "zvyyNTHKEv0y"
      },
      "source": [
        "def svm_SGD(x,y,a,C):\n",
        "    ww = np.ones(len(x[0]))     \n",
        "    bb = 1        \n",
        "    iterr = 4000                \n",
        "    for e in tq.tqdm(range(iterr)):\n",
        "        for i in range(len(x)):\n",
        "            val1= np.dot(x[i], ww) - bb\n",
        "            if (y[i]*val1 < 1):\n",
        "                ww -= a * ( -y[i]*x[i] + 2*C*ww )\n",
        "                bb -= a * (y[i])\n",
        "            else:\n",
        "                ww -= a * 2*C*ww\n",
        "                bb -= a * 0\n",
        "    return ww, bb"
      ],
      "execution_count": 12,
      "outputs": []
    },
    {
      "cell_type": "code",
      "metadata": {
        "id": "TyzL1SkeExL5"
      },
      "source": [
        "def accuracy(predict,actual):\n",
        "    count=0\n",
        "    for i in range(len(predict)):\n",
        "        if predict[i]==actual[i]:\n",
        "            count+=1\n",
        "    return(count/len(predict))"
      ],
      "execution_count": 13,
      "outputs": []
    },
    {
      "cell_type": "code",
      "metadata": {
        "colab": {
          "base_uri": "https://localhost:8080/",
          "height": 83,
          "referenced_widgets": [
            "517f53cf70754e1b883da213bf5e0490",
            "b2110b3085034861aedc9873d39baa24",
            "8bebc9cf1f434a6482f8492f7f3e4e7b",
            "fc7c776f0c174b0e939b6914b2c2b625",
            "76147570f98c40e28823a00be1c57231",
            "9ff9250918d64b0198a90c3361dc1ba1",
            "eb21dcd0fe55446983cdab2c5b9a827f",
            "007cdcca88a54ba8b9b091c2523e263d"
          ]
        },
        "id": "khgua1nl6oDj",
        "outputId": "f9c1e679-3ce5-442a-a034-f6d35fed65fc"
      },
      "source": [
        "start_W= np.ones(len(x_train[0]))  \n",
        "start_B= 1\n",
        "\n",
        "W, B = svm_SGD(x_train, y_train, 0.001,C)\n",
        "\n",
        "result= []\n",
        "for i  in range(len(x_test)):\n",
        "    if np.dot(x_test[i], W) - B > 1:\n",
        "       result.append(1)\n",
        "    else:\n",
        "        result.append(-1)\n",
        "\n",
        "print('accuracy percentage {:.2%}'.format(accuracy(result,y_test)))     "
      ],
      "execution_count": 14,
      "outputs": [
        {
          "output_type": "display_data",
          "data": {
            "application/vnd.jupyter.widget-view+json": {
              "model_id": "517f53cf70754e1b883da213bf5e0490",
              "version_minor": 0,
              "version_major": 2
            },
            "text/plain": [
              "HBox(children=(FloatProgress(value=0.0, max=4000.0), HTML(value='')))"
            ]
          },
          "metadata": {
            "tags": []
          }
        },
        {
          "output_type": "stream",
          "text": [
            "\n",
            "accuracy percentage 73.44%\n"
          ],
          "name": "stdout"
        }
      ]
    },
    {
      "cell_type": "code",
      "metadata": {
        "colab": {
          "base_uri": "https://localhost:8080/"
        },
        "id": "XlxvBxGPB0-E",
        "outputId": "7302fdae-bb13-4b06-d801-db0d4df5e9a9"
      },
      "source": [
        "from sklearn.svm import LinearSVC\n",
        "\n",
        "SVM =  LinearSVC(max_iter=2000)\n",
        "SVM.fit(x_train, y_train)\n",
        "\n",
        "print('SKlearn accuracy percentage {:.2%}'.format(SVM.score(x_test,y_test)))  "
      ],
      "execution_count": 15,
      "outputs": [
        {
          "output_type": "stream",
          "text": [
            "SKlearn accuracy percentage 72.40%\n"
          ],
          "name": "stdout"
        }
      ]
    }
  ]
}
