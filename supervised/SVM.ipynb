{
  "nbformat": 4,
  "nbformat_minor": 0,
  "metadata": {
    "colab": {
      "name": "SVM.ipynb",
      "provenance": [],
      "authorship_tag": "ABX9TyPGb5+LRzrSEf6I/mXuGqCK",
      "include_colab_link": true
    },
    "kernelspec": {
      "name": "python3",
      "display_name": "Python 3"
    },
    "language_info": {
      "name": "python"
    },
    "widgets": {
      "application/vnd.jupyter.widget-state+json": {
        "18fd28d1d8e04564b9b851f28e42f466": {
          "model_module": "@jupyter-widgets/controls",
          "model_name": "HBoxModel",
          "state": {
            "_view_name": "HBoxView",
            "_dom_classes": [],
            "_model_name": "HBoxModel",
            "_view_module": "@jupyter-widgets/controls",
            "_model_module_version": "1.5.0",
            "_view_count": null,
            "_view_module_version": "1.5.0",
            "box_style": "",
            "layout": "IPY_MODEL_ac275e16dad14bce9f466c90f3026258",
            "_model_module": "@jupyter-widgets/controls",
            "children": [
              "IPY_MODEL_0a528c5c571c42aba453816f52e97933",
              "IPY_MODEL_73161625ae45440f853c7befde1d1500"
            ]
          }
        },
        "ac275e16dad14bce9f466c90f3026258": {
          "model_module": "@jupyter-widgets/base",
          "model_name": "LayoutModel",
          "state": {
            "_view_name": "LayoutView",
            "grid_template_rows": null,
            "right": null,
            "justify_content": null,
            "_view_module": "@jupyter-widgets/base",
            "overflow": null,
            "_model_module_version": "1.2.0",
            "_view_count": null,
            "flex_flow": null,
            "width": null,
            "min_width": null,
            "border": null,
            "align_items": null,
            "bottom": null,
            "_model_module": "@jupyter-widgets/base",
            "top": null,
            "grid_column": null,
            "overflow_y": null,
            "overflow_x": null,
            "grid_auto_flow": null,
            "grid_area": null,
            "grid_template_columns": null,
            "flex": null,
            "_model_name": "LayoutModel",
            "justify_items": null,
            "grid_row": null,
            "max_height": null,
            "align_content": null,
            "visibility": null,
            "align_self": null,
            "height": null,
            "min_height": null,
            "padding": null,
            "grid_auto_rows": null,
            "grid_gap": null,
            "max_width": null,
            "order": null,
            "_view_module_version": "1.2.0",
            "grid_template_areas": null,
            "object_position": null,
            "object_fit": null,
            "grid_auto_columns": null,
            "margin": null,
            "display": null,
            "left": null
          }
        },
        "0a528c5c571c42aba453816f52e97933": {
          "model_module": "@jupyter-widgets/controls",
          "model_name": "FloatProgressModel",
          "state": {
            "_view_name": "ProgressView",
            "style": "IPY_MODEL_5add12c9f28a4cbfa4859c03772a323a",
            "_dom_classes": [],
            "description": "gradient decent: 100%",
            "_model_name": "FloatProgressModel",
            "bar_style": "success",
            "max": 1000,
            "_view_module": "@jupyter-widgets/controls",
            "_model_module_version": "1.5.0",
            "value": 1000,
            "_view_count": null,
            "_view_module_version": "1.5.0",
            "orientation": "horizontal",
            "min": 0,
            "description_tooltip": null,
            "_model_module": "@jupyter-widgets/controls",
            "layout": "IPY_MODEL_2e8d8c78df2d41deaacc4dee54bb700b"
          }
        },
        "73161625ae45440f853c7befde1d1500": {
          "model_module": "@jupyter-widgets/controls",
          "model_name": "HTMLModel",
          "state": {
            "_view_name": "HTMLView",
            "style": "IPY_MODEL_bcea5b4c3c7e4762afc09210e445cf48",
            "_dom_classes": [],
            "description": "",
            "_model_name": "HTMLModel",
            "placeholder": "​",
            "_view_module": "@jupyter-widgets/controls",
            "_model_module_version": "1.5.0",
            "value": " 1000/1000 [00:05&lt;00:00, 182.33it/s]",
            "_view_count": null,
            "_view_module_version": "1.5.0",
            "description_tooltip": null,
            "_model_module": "@jupyter-widgets/controls",
            "layout": "IPY_MODEL_4815d17805cd4b9c98299739a0f1dc8f"
          }
        },
        "5add12c9f28a4cbfa4859c03772a323a": {
          "model_module": "@jupyter-widgets/controls",
          "model_name": "ProgressStyleModel",
          "state": {
            "_view_name": "StyleView",
            "_model_name": "ProgressStyleModel",
            "description_width": "initial",
            "_view_module": "@jupyter-widgets/base",
            "_model_module_version": "1.5.0",
            "_view_count": null,
            "_view_module_version": "1.2.0",
            "bar_color": null,
            "_model_module": "@jupyter-widgets/controls"
          }
        },
        "2e8d8c78df2d41deaacc4dee54bb700b": {
          "model_module": "@jupyter-widgets/base",
          "model_name": "LayoutModel",
          "state": {
            "_view_name": "LayoutView",
            "grid_template_rows": null,
            "right": null,
            "justify_content": null,
            "_view_module": "@jupyter-widgets/base",
            "overflow": null,
            "_model_module_version": "1.2.0",
            "_view_count": null,
            "flex_flow": null,
            "width": null,
            "min_width": null,
            "border": null,
            "align_items": null,
            "bottom": null,
            "_model_module": "@jupyter-widgets/base",
            "top": null,
            "grid_column": null,
            "overflow_y": null,
            "overflow_x": null,
            "grid_auto_flow": null,
            "grid_area": null,
            "grid_template_columns": null,
            "flex": null,
            "_model_name": "LayoutModel",
            "justify_items": null,
            "grid_row": null,
            "max_height": null,
            "align_content": null,
            "visibility": null,
            "align_self": null,
            "height": null,
            "min_height": null,
            "padding": null,
            "grid_auto_rows": null,
            "grid_gap": null,
            "max_width": null,
            "order": null,
            "_view_module_version": "1.2.0",
            "grid_template_areas": null,
            "object_position": null,
            "object_fit": null,
            "grid_auto_columns": null,
            "margin": null,
            "display": null,
            "left": null
          }
        },
        "bcea5b4c3c7e4762afc09210e445cf48": {
          "model_module": "@jupyter-widgets/controls",
          "model_name": "DescriptionStyleModel",
          "state": {
            "_view_name": "StyleView",
            "_model_name": "DescriptionStyleModel",
            "description_width": "",
            "_view_module": "@jupyter-widgets/base",
            "_model_module_version": "1.5.0",
            "_view_count": null,
            "_view_module_version": "1.2.0",
            "_model_module": "@jupyter-widgets/controls"
          }
        },
        "4815d17805cd4b9c98299739a0f1dc8f": {
          "model_module": "@jupyter-widgets/base",
          "model_name": "LayoutModel",
          "state": {
            "_view_name": "LayoutView",
            "grid_template_rows": null,
            "right": null,
            "justify_content": null,
            "_view_module": "@jupyter-widgets/base",
            "overflow": null,
            "_model_module_version": "1.2.0",
            "_view_count": null,
            "flex_flow": null,
            "width": null,
            "min_width": null,
            "border": null,
            "align_items": null,
            "bottom": null,
            "_model_module": "@jupyter-widgets/base",
            "top": null,
            "grid_column": null,
            "overflow_y": null,
            "overflow_x": null,
            "grid_auto_flow": null,
            "grid_area": null,
            "grid_template_columns": null,
            "flex": null,
            "_model_name": "LayoutModel",
            "justify_items": null,
            "grid_row": null,
            "max_height": null,
            "align_content": null,
            "visibility": null,
            "align_self": null,
            "height": null,
            "min_height": null,
            "padding": null,
            "grid_auto_rows": null,
            "grid_gap": null,
            "max_width": null,
            "order": null,
            "_view_module_version": "1.2.0",
            "grid_template_areas": null,
            "object_position": null,
            "object_fit": null,
            "grid_auto_columns": null,
            "margin": null,
            "display": null,
            "left": null
          }
        }
      }
    }
  },
  "cells": [
    {
      "cell_type": "markdown",
      "metadata": {
        "id": "view-in-github",
        "colab_type": "text"
      },
      "source": [
        "<a href=\"https://colab.research.google.com/github/dvircohen0/Machine-Learning-Algorithms-From-Scratch/blob/main/SVM.ipynb\" target=\"_parent\"><img src=\"https://colab.research.google.com/assets/colab-badge.svg\" alt=\"Open In Colab\"/></a>"
      ]
    },
    {
      "cell_type": "code",
      "metadata": {
        "id": "Vvm_RJgAEpyG"
      },
      "source": [
        "import pandas as pd\n",
        "import numpy as np\n",
        "from sklearn.model_selection import train_test_split\n",
        "import tqdm.notebook as tq\n",
        "from numpy import loadtxt\n",
        "from sklearn.preprocessing import StandardScaler\n",
        "from matplotlib import pyplot as plt"
      ],
      "execution_count": 2,
      "outputs": []
    },
    {
      "cell_type": "code",
      "metadata": {
        "id": "SRxvcfBJpcQH"
      },
      "source": [
        "from sklearn.datasets import load_iris\n",
        "my_iris = load_iris()\n",
        "X = my_iris[\"data\"][:,0:2]\n",
        "y = np.array([1 if x==0 else 0 for x in my_iris[\"target\"]])\n",
        "scaler = StandardScaler()\n",
        "scaled_data = scaler.fit_transform(X) \n",
        "x_train,x_test,y_train,y_test = train_test_split(scaled_data,y)"
      ],
      "execution_count": 119,
      "outputs": []
    },
    {
      "cell_type": "code",
      "metadata": {
        "id": "iyikDGqkvrq5"
      },
      "source": [
        "class SVM:\n",
        "  def __init__(self, lr=0.001,lambdaa = 0.01, iters=1000):\n",
        "    self.lr = lr\n",
        "    self.lambdaa = lambdaa\n",
        "    self.iters = iters\n",
        "    self.W = None\n",
        "    self.b = None\n",
        "\n",
        "  def fit(self,X,y):\n",
        "    _y =np.where(y <=0, -1, 1)\n",
        "    n_samples, n_features = X.shape\n",
        "    self.W = np.zeros(n_features)\n",
        "    self.b = 0\n",
        "\n",
        "    #gradient loop\n",
        "    for _ in tq.tqdm(range(self.iters), desc='gradient decent'):\n",
        "      for idx, x_i in enumerate(X):\n",
        "        if _y[idx] * (np.dot(x_i, self.W) - self.b) >= 1:\n",
        "          self.W -= self.lr * (2 * self.lambdaa * self.W)\n",
        "        else:\n",
        "          self.W -= self.lr * (2 * self.lambdaa * self.W) - np.dot(x_i,_y[idx])\n",
        "          self.b -= self.lr * _y[idx]\n",
        "\n",
        "\n",
        "  def predict(self,X):\n",
        "    y_predict = np.dot(X, self.W) - self.b\n",
        "    return np.sign(y_predict)\n",
        "\n",
        "\n",
        "  def score(self,X,y):\n",
        "    _y =np.where(y <=0, -1, 1)\n",
        "    accuracy = np.sum(_y==self.predict(X)) / len(_y)\n",
        "    return accuracy"
      ],
      "execution_count": 120,
      "outputs": []
    },
    {
      "cell_type": "code",
      "metadata": {
        "colab": {
          "base_uri": "https://localhost:8080/",
          "height": 83,
          "referenced_widgets": [
            "18fd28d1d8e04564b9b851f28e42f466",
            "ac275e16dad14bce9f466c90f3026258",
            "0a528c5c571c42aba453816f52e97933",
            "73161625ae45440f853c7befde1d1500",
            "5add12c9f28a4cbfa4859c03772a323a",
            "2e8d8c78df2d41deaacc4dee54bb700b",
            "bcea5b4c3c7e4762afc09210e445cf48",
            "4815d17805cd4b9c98299739a0f1dc8f"
          ]
        },
        "id": "2jb-3SXuzh6D",
        "outputId": "6ddf8fdd-010e-40f7-88a5-3cdc332a5cbb"
      },
      "source": [
        "clf = SVM()\n",
        "clf.fit(x_train,y_train)\n",
        "\n",
        "print('accuracy score {:.2%}'.format(clf.score(x_test,y_test)))"
      ],
      "execution_count": 121,
      "outputs": [
        {
          "output_type": "display_data",
          "data": {
            "application/vnd.jupyter.widget-view+json": {
              "model_id": "18fd28d1d8e04564b9b851f28e42f466",
              "version_minor": 0,
              "version_major": 2
            },
            "text/plain": [
              "HBox(children=(FloatProgress(value=0.0, description='gradient decent', max=1000.0, style=ProgressStyle(descrip…"
            ]
          },
          "metadata": {
            "tags": []
          }
        },
        {
          "output_type": "stream",
          "text": [
            "\n",
            "accuracy score 100.00%\n"
          ],
          "name": "stdout"
        }
      ]
    },
    {
      "cell_type": "code",
      "metadata": {
        "colab": {
          "base_uri": "https://localhost:8080/",
          "height": 295
        },
        "id": "M4oZxz_4mJNd",
        "outputId": "cb156912-ef92-481f-cb89-199c56a43c82"
      },
      "source": [
        "\n",
        "def visualize_svm(X,y):\n",
        "     def get_hyperplane_value(x, w, b, offset):\n",
        "          return (-w[0] * x + b + offset) / w[1]\n",
        "\n",
        "     _y =np.where(y <=0, -1, 1)\n",
        "     fig = plt.figure()\n",
        "     ax = fig.add_subplot(1,1,1)\n",
        "     plt.scatter(*X[_y==1].T, marker='o',c='y',label=my_iris.target_names[0])\n",
        "     plt.scatter(*X[_y==-1].T, marker='o',c='g',label=my_iris.target_names[1] + ' and ' + my_iris.target_names[2])\n",
        "\n",
        "\n",
        "     y_pred = clf.predict(X)\n",
        "     \n",
        "     missclassefied = np.array([(X[i,0],X[i,1]) for i in range(len(y)) if _y[i]!=y_pred[i]])\n",
        "     plt.scatter(missclassefied[:,0],\n",
        "                  missclassefied[:,1],\n",
        "                  s=40,marker ='o',\n",
        "                  facecolors='none',\n",
        "                  color='r',edgecolors='r',\n",
        "                  label='missclassefied')\n",
        "\n",
        "     x0_1 = np.amin(X[:,0])\n",
        "     x0_2 = np.amax(X[:,0])\n",
        "\n",
        "     x1_1 = get_hyperplane_value(x0_1, clf.W, clf.b, 0)\n",
        "     x1_2 = get_hyperplane_value(x0_2, clf.W, clf.b, 0)\n",
        "\n",
        "     x1_1_m = get_hyperplane_value(x0_1, clf.W, clf.b, -1)\n",
        "     x1_2_m = get_hyperplane_value(x0_2, clf.W, clf.b, -1)\n",
        "\n",
        "     x1_1_p = get_hyperplane_value(x0_1, clf.W, clf.b, 1)\n",
        "     x1_2_p = get_hyperplane_value(x0_2, clf.W, clf.b, 1)\n",
        "\n",
        "     if (clf.b/clf.W[1]) <= 0:\n",
        "       label='y = {:.2}x{:.2}'.format(-1*clf.W[0]/clf.W[1],clf.b/clf.W[1])\n",
        "     else: label ='y = {:.2}x+{:.2}'.format(-1*clf.W[0]/clf.W[1],clf.b/clf.W[1])\n",
        "\n",
        "     if ((clf.b-1)/clf.W[1]) <= 0:\n",
        "       label_m='y = {:.2}x{:.2}'.format(-1*clf.W[0]/clf.W[1],(clf.b-1)/clf.W[1])\n",
        "     else: label_m ='y = {:.2}x+{:.2}'.format(-1*clf.W[0]/clf.W[1],(clf.b-1)/clf.W[1])\n",
        "\n",
        "     if ((1+clf.b)/clf.W[1]) <= 0:\n",
        "       label_p='y = {:.2}x{:.2}'.format(-1*clf.W[0]/clf.W[1],(1+clf.b)/clf.W[1])\n",
        "     else: label_p ='y = {:.2}x+{:.2}'.format(-1*clf.W[0]/clf.W[1],(1+clf.b)/clf.W[1])\n",
        "\n",
        "\n",
        "     ax.plot([x0_1, x0_2],[x1_1, x1_2], 'k--',label=label)\n",
        "     ax.plot([x0_1, x0_2],[x1_1_m, x1_2_m], 'g',label=label_m)\n",
        "     ax.plot([x0_1, x0_2],[x1_1_p, x1_2_p], 'y',label=label_p)\n",
        "\n",
        "     x1_min = min(np.amin(X[:,1]),np.amin(X[:,0]))\n",
        "     x1_max = max(np.amax(X[:,1]),np.amax(X[:,0]))\n",
        "     ax.set_ylim([x1_min,x1_max])\n",
        "     plt.legend(bbox_to_anchor=(1, 1))\n",
        "     plt.title('Support Vector Machine Classifier')\n",
        "     plt.ylabel(my_iris.feature_names[1] + ' scaled')\n",
        "     plt.xlabel(my_iris.feature_names[0] + ' scaled')\n",
        "     plt.show()\n",
        "\n",
        "visualize_svm(x_train,y_train)"
      ],
      "execution_count": 123,
      "outputs": [
        {
          "output_type": "display_data",
          "data": {
            "image/png": "[encoded data removed]",
            "text/plain": [
              "<Figure size 432x288 with 1 Axes>"
            ]
          },
          "metadata": {
            "tags": [],
            "needs_background": "light"
          }
        }
      ]
    },
    {
      "cell_type": "code",
      "metadata": {
        "colab": {
          "base_uri": "https://localhost:8080/"
        },
        "id": "XlxvBxGPB0-E",
        "outputId": "f2115504-2447-446d-adfe-eb2c0252ef78"
      },
      "source": [
        "from sklearn.svm import LinearSVC\n",
        "\n",
        "SVM =  LinearSVC(max_iter=2000)\n",
        "SVM.fit(x_train, y_train)\n",
        "\n",
        "print('SKlearn accuracy percentage {:.2%}'.format(SVM.score(x_test,y_test)))  "
      ],
      "execution_count": 124,
      "outputs": [
        {
          "output_type": "stream",
          "text": [
            "SKlearn accuracy percentage 100.00%\n"
          ],
          "name": "stdout"
        }
      ]
    }
  ]
}
