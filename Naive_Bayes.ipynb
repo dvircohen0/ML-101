{
  "nbformat": 4,
  "nbformat_minor": 0,
  "metadata": {
    "colab": {
      "name": "Naive_Bayes.ipynb",
      "provenance": [],
      "authorship_tag": "ABX9TyP04ONzeplVHeqv01yK0pJC",
      "include_colab_link": true
    },
    "kernelspec": {
      "name": "python3",
      "display_name": "Python 3"
    },
    "language_info": {
      "name": "python"
    }
  },
  "cells": [
    {
      "cell_type": "markdown",
      "metadata": {
        "id": "view-in-github",
        "colab_type": "text"
      },
      "source": [
        "<a href=\"https://colab.research.google.com/github/dvircohen0/Machine-Learning-Algorithms-From-Scratch/blob/main/Naive_Bayes.ipynb\" target=\"_parent\"><img src=\"https://colab.research.google.com/assets/colab-badge.svg\" alt=\"Open In Colab\"/></a>"
      ]
    },
    {
      "cell_type": "code",
      "metadata": {
        "id": "jtkFNm7zGrQt"
      },
      "source": [
        "import pandas as  pd\n",
        "import numpy as np\n",
        "from sklearn.model_selection import train_test_split\n",
        "import math\n",
        "from numpy import loadtxt"
      ],
      "execution_count": 1,
      "outputs": []
    },
    {
      "cell_type": "code",
      "metadata": {
        "id": "sYjaMr-mGs7R"
      },
      "source": [
        "#import dataset\n",
        "pima = loadtxt('https://raw.githubusercontent.com/jbrownlee/Datasets/master/pima-indians-diabetes.data.csv', delimiter=',')\n",
        "\n",
        "X=pima[:,:-1]\n",
        "y=pima[:,-1]\n",
        "#split into test and train\n",
        "x_train,x_test,y_train,y_test = train_test_split(X,y)"
      ],
      "execution_count": 2,
      "outputs": []
    },
    {
      "cell_type": "code",
      "metadata": {
        "id": "6dm9W3YAGvm0"
      },
      "source": [
        "#split into 2 groups of labels\n",
        "group1 = x_train[np.where(y_train == 1)]\n",
        "group2 = x_train[np.where(y_train == 0)]\n",
        "#calculate p for each group\n",
        "group1_p=len(group1)/len(x_train)\n",
        "group2_p=len(group2)/len(x_train)"
      ],
      "execution_count": 3,
      "outputs": []
    },
    {
      "cell_type": "code",
      "metadata": {
        "id": "DMqNvcTIGyI-"
      },
      "source": [
        "#func calculte the mean and std\n",
        "def mean_std_vactor(x):\n",
        "    mean0=list()\n",
        "    std0=list()\n",
        "    for i in range(x.shape[1]):\n",
        "        mean0.append(x[:,i].mean())\n",
        "        std0.append(x[:,i].std())\n",
        "    return mean0,std0"
      ],
      "execution_count": 10,
      "outputs": []
    },
    {
      "cell_type": "code",
      "metadata": {
        "id": "D8TwYjDPG0Cu"
      },
      "source": [
        "#func calculte the gausseian p given x mean and std\n",
        "def gausse(x,mean,std):\n",
        "    gausse=(1/(np.sqrt(2*math.pi)*std))*np.exp(-(x-mean)**2/(2*std**2))\n",
        "    return gausse"
      ],
      "execution_count": 11,
      "outputs": []
    },
    {
      "cell_type": "code",
      "metadata": {
        "id": "hYs4jB0eG16M"
      },
      "source": [
        "#func calculte the accuracy\n",
        "def accuracy(predict,actual):\n",
        "    count=0\n",
        "    for i in range(len(predict)):\n",
        "        if predict[i]==actual[i]:\n",
        "            count=count+1\n",
        "    return(count/len(predict))"
      ],
      "execution_count": 12,
      "outputs": []
    },
    {
      "cell_type": "code",
      "metadata": {
        "colab": {
          "base_uri": "https://localhost:8080/"
        },
        "id": "aExgTZqUGXra",
        "outputId": "2e32ef12-d021-4a6d-d365-afc85df6682b"
      },
      "source": [
        "#calculate mean and std for every feature in both groups    \n",
        "mean1,std1=mean_std_vactor(group1)\n",
        "mean2,std2=mean_std_vactor(group2)\n",
        "#create temp veraible\n",
        "p1,p2,result=[], [], []\n",
        "\n",
        "for j in range(len(x_test)):\n",
        "    for i in range(len(mean1)):\n",
        "        #calculate sum of product of fetures p gausse for each group\n",
        "        p1.append(gausse(x_test[j,i],mean1[i],std1[i]))\n",
        "        p2.append(gausse(x_test[j,i],mean2[i],std2[i]))\n",
        "        #check which group is more likely\n",
        "    if np.prod(p1)*group1_p>=np.prod(p2)*group2_p:\n",
        "       result.append(1)\n",
        "    else:\n",
        "       result.append(0)\n",
        "    p1,p2=[],[]\n",
        "    \n",
        "print('accuracy percentage {:.2%}'.format(accuracy(result,y_test))) "
      ],
      "execution_count": 13,
      "outputs": [
        {
          "output_type": "stream",
          "text": [
            "accuracy percentage 72.92%\n"
          ],
          "name": "stdout"
        }
      ]
    },
    {
      "cell_type": "code",
      "metadata": {
        "colab": {
          "base_uri": "https://localhost:8080/"
        },
        "id": "0NmapBpgIjAg",
        "outputId": "aaf3bebc-23d5-4171-a0a5-54a08e73f7e9"
      },
      "source": [
        "from sklearn.naive_bayes import GaussianNB\n",
        "gnb = GaussianNB()\n",
        "gnb.fit(x_train, y_train)\n",
        "\n",
        "print('accuracy percentage {:.2%}'.format(gnb.score(x_test, y_test))) "
      ],
      "execution_count": 18,
      "outputs": [
        {
          "output_type": "stream",
          "text": [
            "accuracy percentage 72.92%\n"
          ],
          "name": "stdout"
        }
      ]
    }
  ]
}