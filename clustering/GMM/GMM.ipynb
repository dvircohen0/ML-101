{
  "nbformat": 4,
  "nbformat_minor": 0,
  "metadata": {
    "colab": {
      "name": "GMM.ipynb",
      "provenance": [],
      "authorship_tag": "ABX9TyN0LRnO7IGLAkaHNlDrsG31",
      "include_colab_link": true
    },
    "kernelspec": {
      "name": "python3",
      "display_name": "Python 3"
    },
    "language_info": {
      "name": "python"
    }
  },
  "cells": [
    {
      "cell_type": "markdown",
      "metadata": {
        "id": "view-in-github",
        "colab_type": "text"
      },
      "source": [
        "<a href=\"https://colab.research.google.com/github/dvircohen0/Machine-Learning-Algorithms-From-Scratch/blob/main/GMM.ipynb\" target=\"_parent\"><img src=\"https://colab.research.google.com/assets/colab-badge.svg\" alt=\"Open In Colab\"/></a>"
      ]
    },
    {
      "cell_type": "code",
      "metadata": {
        "id": "99KsLjEWWms_"
      },
      "source": [
        "import pandas as pd\n",
        "import numpy as np\n",
        "import matplotlib.pyplot as plt\n",
        "from sklearn import datasets\n",
        "from sklearn.mixture import GaussianMixture"
      ],
      "execution_count": 10,
      "outputs": []
    },
    {
      "cell_type": "code",
      "metadata": {
        "id": "k8Yf6qE8Woq1"
      },
      "source": [
        "#loading the data\n",
        "iris = datasets.load_iris()\n",
        "X = iris.data\n",
        "n,d = X.shape\n",
        "\n",
        "max_iters = 1000\n",
        "\n",
        "#define number of clusters\n",
        "k=3\n",
        "\n",
        "#randomly choose the starting centroids/means as three of the points from datasets\n",
        "mean = X[np.random.choice(n, k)]\n",
        "\n",
        "#initialize the variances for each gaussians\n",
        "Sigma= [np.eye(d)] * k\n",
        "\n",
        "#initialize the probabilities/weights for each gaussians\n",
        "w = [1/k] * k\n",
        "\n",
        "'''\n",
        "Responsibility matrix is initialized to all zeros.\n",
        "This matrix contains the data about which point belongs\n",
        "to which Gaussian\n",
        "'''\n",
        "R = np.zeros((n, k))"
      ],
      "execution_count": 6,
      "outputs": []
    },
    {
      "cell_type": "code",
      "metadata": {
        "id": "uzMFItKNWz3b"
      },
      "source": [
        "'''\n",
        "calculates for each point the probability of belonging to each\n",
        "gaussian, based on the mean and variance of this gaussian\n",
        "'''\n",
        "\n",
        "def prob (sigma,mean): \n",
        "    Data = X - mean\n",
        "    prob = np.sum(np.dot(Data, np.linalg.inv(sigma))*Data, 1)\n",
        "    prob = np.exp(-0.5*prob)/np.sqrt((np.power((2*np.pi), d))*np.absolute(np.linalg.det(sigma)))      \n",
        "    return prob "
      ],
      "execution_count": 3,
      "outputs": []
    },
    {
      "cell_type": "code",
      "metadata": {
        "id": "ZuYuv1vSW1y0"
      },
      "source": [
        "def E_Step(R):\n",
        "    for i in range(k):\n",
        "      # multiply the probability of every point by the weight of the corresponding cluster\n",
        "        R[:, i] = w[i] * prob (Sigma[i],mean[i])\n",
        "    # Normalize the responsibility matrix by the sum    \n",
        "    R = (R.T / np.sum(R, axis = 1)).T\n",
        "    # Calculate the number of points belonging to each Gaussian\n",
        "    weight_sum = np.sum(R, axis = 0)\n",
        "    return  weight_sum ,R"
      ],
      "execution_count": 20,
      "outputs": []
    },
    {
      "cell_type": "code",
      "metadata": {
        "id": "ReG67GizW4PM"
      },
      "source": [
        "'''\n",
        "calculate for each gaussian utilizing the new mean, variance and weights\n",
        "'''\n",
        "def M_step(weight_sum ):\n",
        "    for i in range(k):\n",
        "        mean[i] = 1/weight_sum [i] * np.sum(R[:, i] * X.T, axis = 1).T\n",
        "        x_mu = np.matrix(X - mean[i])\n",
        "        Sigma[i] = np.array(1 / weight_sum [i] * np.dot(np.multiply(x_mu.T,  R[:, i]), x_mu))\n",
        "        w[i] = 1/n * weight_sum [i]"
      ],
      "execution_count": 5,
      "outputs": []
    },
    {
      "cell_type": "code",
      "metadata": {
        "id": "GraAeuqhW-UT"
      },
      "source": [
        "for i in range(max_iters):\n",
        "    N_ks, R = E_Step(R)\n",
        "    M_step(N_ks)\n",
        "   \n",
        "idx=np.argmax(R, axis=1)\n",
        "classes=np.unique(idx)   \n",
        "clusters={}\n",
        "\n",
        "for i in range(len(idx)):\n",
        "    for j in range(len(classes)):\n",
        "        if idx[i]==classes[j]:\n",
        "           clusters.setdefault(classes[j], []).append(X[i])"
      ],
      "execution_count": 7,
      "outputs": []
    },
    {
      "cell_type": "code",
      "metadata": {
        "colab": {
          "base_uri": "https://localhost:8080/",
          "height": 281
        },
        "id": "712WmguNWLsM",
        "outputId": "f6ac9e3e-2965-47b5-e9d0-923ea1256689"
      },
      "source": [
        "colors=['b','r','y'] \n",
        "for j in range(len(classes)):\n",
        "    dataplot=np.asarray(clusters.get(j))\n",
        "    plt.scatter(dataplot[:,2],dataplot[:,3],c=colors[j], s=30)\n",
        "\n",
        "plt.title('GMM_from scratch')    \n",
        "plt.show()  "
      ],
      "execution_count": 17,
      "outputs": [
        {
          "output_type": "display_data",
          "data": {
            "image/png": "[encoded data removed]",
            "text/plain": [
              "<Figure size 432x288 with 1 Axes>"
            ]
          },
          "metadata": {
            "tags": [],
            "needs_background": "light"
          }
        }
      ]
    },
    {
      "cell_type": "code",
      "metadata": {
        "colab": {
          "base_uri": "https://localhost:8080/",
          "height": 281
        },
        "id": "n4DzRDP5XTS4",
        "outputId": "2d04fda9-e645-4348-8b04-b74d44ab58c8"
      },
      "source": [
        "gmm_sk = GaussianMixture(n_components=3, random_state=0).fit_predict(X)\n",
        "\n",
        "for i in range(len(gmm_sk)):\n",
        "    for j in range(len(np.unique(gmm_sk))):\n",
        "        if gmm_sk[i]==np.unique(gmm_sk)[j]:\n",
        "           plt.scatter(X[i,2],X[i,3],c=colors[j], s=30)\n",
        "\n",
        "plt.title('Skleran GMM')           \n",
        "plt.show()"
      ],
      "execution_count": 19,
      "outputs": [
        {
          "output_type": "display_data",
          "data": {
            "image/png": "[encoded data removed]",
            "text/plain": [
              "<Figure size 432x288 with 1 Axes>"
            ]
          },
          "metadata": {
            "tags": [],
            "needs_background": "light"
          }
        }
      ]
    }
  ]
}
