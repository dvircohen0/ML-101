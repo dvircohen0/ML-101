{
  "nbformat": 4,
  "nbformat_minor": 0,
  "metadata": {
    "colab": {
      "name": "DBscan.ipynb",
      "provenance": [],
      "authorship_tag": "ABX9TyOq1B+rGhLBWwzd+HRbfzXr",
      "include_colab_link": true
    },
    "kernelspec": {
      "name": "python3",
      "display_name": "Python 3"
    },
    "language_info": {
      "name": "python"
    }
  },
  "cells": [
    {
      "cell_type": "markdown",
      "metadata": {
        "id": "view-in-github",
        "colab_type": "text"
      },
      "source": [
        "<a href=\"https://colab.research.google.com/github/dvircohen0/Machine-Learning-Algorithms-From-Scratch/blob/main/clustering%5CDBscan.ipynb\" target=\"_parent\"><img src=\"https://colab.research.google.com/assets/colab-badge.svg\" alt=\"Open In Colab\"/></a>"
      ]
    },
    {
      "cell_type": "code",
      "metadata": {
        "id": "aZr5ddDAM_nS"
      },
      "source": [
        "import numpy\n",
        "import pandas as pd\n",
        "import numpy as np\n",
        "import matplotlib.pyplot as plt\n",
        "from sklearn.cluster import DBSCAN\n",
        "from sklearn import datasets"
      ],
      "execution_count": null,
      "outputs": []
    },
    {
      "cell_type": "code",
      "metadata": {
        "id": "-9IT_g9eNCJL"
      },
      "source": [
        "iris = datasets.load_iris()\n",
        "X = iris.data\n",
        "\n",
        "eps = 0.8\n",
        "min_samples = 19\n",
        "\n",
        "\n",
        "dim=len(X)\n",
        "dis=np.zeros((dim,dim))\n",
        "for i in range(dim):\n",
        "    for j in range(dim):\n",
        "        dis[i,j]=np.linalg.norm(X[i,:]-X[j,:])"
      ],
      "execution_count": 39,
      "outputs": []
    },
    {
      "cell_type": "code",
      "metadata": {
        "id": "zy6TYe6JRZeh"
      },
      "source": [
        "def MyDBSCAN(Data, eps, MinPts):\n",
        "    labels = [0]*len(Data)\n",
        "    C = 0\n",
        "    for i in range(len(Data)):\n",
        "        if (labels[i] == 0):\n",
        "            Neighbors_i = my_neighbors(Data, i, eps)\n",
        "            if len(Neighbors_i) < MinPts:\n",
        "               labels[i] = -1\n",
        "            else: \n",
        "               C += 1\n",
        "               create_cluster(Data, labels, i, Neighbors_i, C, eps, MinPts)\n",
        "    return labels"
      ],
      "execution_count": 40,
      "outputs": []
    },
    {
      "cell_type": "code",
      "metadata": {
        "id": "8OAvZxewRbTn"
      },
      "source": [
        "def create_cluster(data,labels,P,neighbors_of_P,Cluster_N,eps,MinPts):\n",
        "    labels[P]=Cluster_N\n",
        "    i=0\n",
        "    while i < len(neighbors_of_P):\n",
        "        if (labels[neighbors_of_P[i]] == -1 or labels[neighbors_of_P[i]] == 0):\n",
        "           labels[neighbors_of_P[i]] = Cluster_N\n",
        "           PnNeighborPts = my_neighbors(data, neighbors_of_P[i], eps)\n",
        "           if len(PnNeighborPts) >= MinPts:\n",
        "              neighbors_of_P=neighbors_of_P + PnNeighborPts\n",
        "        i+=1"
      ],
      "execution_count": 41,
      "outputs": []
    },
    {
      "cell_type": "code",
      "metadata": {
        "id": "SxTO_Z3yRdCn"
      },
      "source": [
        "def my_neighbors(data,P,eps):\n",
        "    neighbors=[]\n",
        "    for i in range(len(data)):\n",
        "        if dis[P,i] < eps:\n",
        "            neighbors.append(i)\n",
        "    return neighbors"
      ],
      "execution_count": 42,
      "outputs": []
    },
    {
      "cell_type": "code",
      "metadata": {
        "colab": {
          "base_uri": "https://localhost:8080/",
          "height": 281
        },
        "id": "ZWVfZe4oRg3p",
        "outputId": "dd39d099-627b-4ce3-dec5-5091286693dc"
      },
      "source": [
        "my_labels = MyDBSCAN(X, eps, min_samples)\n",
        "\n",
        "colors=['b','r','y']\n",
        "for i in range(len(my_labels)):\n",
        "    for j in range(len(np.unique(my_labels))):\n",
        "        if my_labels[i]==np.unique(my_labels)[j]:\n",
        "           plt.scatter(X[i,2],X[i,3],c=colors[j], s=30)\n",
        "plt.title('DBscan from scartch') \n",
        "plt.show()"
      ],
      "execution_count": 43,
      "outputs": [
        {
          "output_type": "display_data",
          "data": {
            "image/png": "[encoded data removed]",
            "text/plain": [
              "<Figure size 432x288 with 1 Axes>"
            ]
          },
          "metadata": {
            "tags": [],
            "needs_background": "light"
          }
        }
      ]
    },
    {
      "cell_type": "code",
      "metadata": {
        "colab": {
          "base_uri": "https://localhost:8080/",
          "height": 281
        },
        "id": "HJJ7fcIuMKr4",
        "outputId": "0c83c35e-8484-4562-bd04-b22582e0d943"
      },
      "source": [
        "my_labels2 = DBSCAN(eps, min_samples).fit_predict(X)\n",
        "\n",
        "for i in range(len(my_labels2)):\n",
        "    for j in range(len(np.unique(my_labels2))):\n",
        "        if my_labels2[i]==np.unique(my_labels2)[j]:\n",
        "           plt.scatter(X[i,2],X[i,3],c=colors[j], s=30)\n",
        "plt.title('Sklearn DBscan')\n",
        "plt.show()"
      ],
      "execution_count": 44,
      "outputs": [
        {
          "output_type": "display_data",
          "data": {
            "image/png": "[encoded data removed]",
            "text/plain": [
              "<Figure size 432x288 with 1 Axes>"
            ]
          },
          "metadata": {
            "tags": [],
            "needs_background": "light"
          }
        }
      ]
    },
    {
      "cell_type": "code",
      "metadata": {
        "colab": {
          "base_uri": "https://localhost:8080/",
          "height": 281
        },
        "id": "GoPxAqEuTSU-",
        "outputId": "4171e979-f657-48bc-822e-aa1fae984cce"
      },
      "source": [
        "y= iris.target\n",
        "for i in range(len(y)):\n",
        "    for j in range(len(np.unique(y))):\n",
        "        if my_labels2[i]==np.unique(my_labels2)[j]:\n",
        "           plt.scatter(X[i,2],X[i,3],c=colors[j], s=30)\n",
        "plt.title('Ground true labels')\n",
        "plt.show()"
      ],
      "execution_count": 45,
      "outputs": [
        {
          "output_type": "display_data",
          "data": {
            "image/png": "[encoded data removed]",
            "text/plain": [
              "<Figure size 432x288 with 1 Axes>"
            ]
          },
          "metadata": {
            "tags": [],
            "needs_background": "light"
          }
        }
      ]
    }
  ]
}
